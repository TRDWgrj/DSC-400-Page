{
 "cells": [
  {
   "cell_type": "code",
   "execution_count": 1,
   "id": "a32590c6",
   "metadata": {},
   "outputs": [],
   "source": [
    "import networkx as nx\n",
    "import matplotlib.pyplot as plt\n",
    "\n",
    "# Represents the overall DAG workflow\n",
    "workflow_graph = nx.DiGraph()\n",
    "\n",
    "# Represents the task to aggregrate the weekly sales dataset\n",
    "agg_sales_task = 'AggSalesTask'\n",
    "\n",
    "# Represents the task to create the latest demographics dataset\n",
    "latest_demo_task = 'LatestDemoTask'\n",
    "\n",
    "# Represents the task to aggregrate the weekly weather dataset\n",
    "agg_weather_task = 'AggWeatherTask'\n",
    "\n",
    "# Represents the task to create the weekly modeling dataset\n",
    "modeling_data_task = 'ModelingTask'\n",
    "\n",
    "# Represents the latest ACS Summary File data\n",
    "latest_acs_data = 'LatestACSData'\n",
    "\n",
    "# Represents the latest PUMS data\n",
    "latest_pums_data = 'LatestPUMSData'\n",
    "\n",
    "# Represents the latest Tiger data\n",
    "latest_tiger_data = 'LatestTigerData'\n",
    "\n",
    "# Represents the sales data for each day\n",
    "sales_data0 = 'SalesData0'\n",
    "sales_data1 = 'SalesData1'\n",
    "sales_data2 = 'SalesData2'\n",
    "sales_data3 = 'SalesData3'\n",
    "sales_data4 = 'SalesData4'\n",
    "sales_data5 = 'SalesData5'\n",
    "sales_data6 = 'SalesData6'\n",
    "\n",
    "# A collection containing the weekly sales data\n",
    "sales_data = [\n",
    "    sales_data0,\n",
    "    sales_data1,\n",
    "    sales_data2,\n",
    "    sales_data3,\n",
    "    sales_data4,\n",
    "    sales_data5,\n",
    "    sales_data6\n",
    "]\n",
    "\n",
    "# Represents the forecast data for each day\n",
    "forecast_data0 = 'ForecastData0'\n",
    "forecast_data1 = 'ForecastData1'\n",
    "forecast_data2 = 'ForecastData2'\n",
    "forecast_data3 = 'ForecastData3'\n",
    "forecast_data4 = 'ForecastData4'\n",
    "forecast_data5 = 'ForecastData5'\n",
    "forecast_data6 = 'ForecastData6'\n",
    "\n",
    "# A collection containing the weekly forecast data\n",
    "forecast_data = [\n",
    "    forecast_data0,\n",
    "    forecast_data1,\n",
    "    forecast_data2,\n",
    "    forecast_data3,\n",
    "    forecast_data4,\n",
    "    forecast_data5,\n",
    "    forecast_data6\n",
    "]\n",
    "\n",
    "# Represents the aggregated sales dataset\n",
    "agg_sales_data = 'AggSalesData'\n",
    "\n",
    "# Represents the aggregated weather dataset\n",
    "agg_weather_data = 'AggWeatherData'\n",
    "\n",
    "# Represents the latest demographic dataset\n",
    "latest_demo_data = 'LatestDemoData'\n",
    "\n",
    "# Represents the weekly modeling dataset\n",
    "modeling_data = 'ModelingData'"
   ]
  },
  {
   "cell_type": "code",
   "execution_count": 2,
   "id": "6415b6e6",
   "metadata": {},
   "outputs": [],
   "source": [
    "# TODO: Add the sales data nodes with dtype='data' attribute\n",
    "for sale in sales_data:\n",
    "    workflow_graph.add_node(sale, dtype='data')\n",
    "    \n",
    "# TODO: Add the forecast data nodes with dtype='data' attribute\n",
    "for forecast in forecast_data:\n",
    "    workflow_graph.add_node(forecast, dtype='data')\n",
    "    \n",
    "# TODO: Add the latest PUMS data node with dtype='data' attribute\n",
    "workflow_graph.add_node(latest_pums_data, dtype='data')\n",
    "\n",
    "# TODO: Add the latest ACS data node with dtype='data' attribute\n",
    "workflow_graph.add_node(latest_acs_data, dtype='data')\n",
    "\n",
    "# TODO: Add the latest Tiger data node with dtype='data' attribute\n",
    "workflow_graph.add_node(latest_tiger_data, dtype='data')\n",
    "\n",
    "# TODO: Add the aggregated sales data node with dtype='data' attribute\n",
    "workflow_graph.add_node(agg_sales_data, dtype='data')\n",
    "\n",
    "# TODO: Add the aggregated weather data node with dtype='data' attribute\n",
    "workflow_graph.add_node(agg_weather_data, dtype='data')\n",
    "\n",
    "# TODO: Add the latest demographic data node with dtype='data' attribute\n",
    "workflow_graph.add_node(latest_demo_data, dtype='data')\n",
    "\n",
    "# TODO: Add the modeling data node with dtype='data' attribute\n",
    "workflow_graph.add_node(modeling_data, dtype='data')\n",
    "\n",
    "# TODO: Add the aggregate sales task node with dtype='task' attribute\n",
    "workflow_graph.add_node(agg_sales_task, dtype='task')\n",
    "\n",
    "# TODO: Add the latest demographics data task node with dtype='task' attribute\n",
    "workflow_graph.add_node(latest_demo_task, dtype='task')\n",
    "\n",
    "# TODO: Add the aggregate weather task node with dtype='task' attribute\n",
    "workflow_graph.add_node(agg_weather_task, dtype='task')\n",
    "\n",
    "# TODO: Add the modeling data task node with dtype='task' attribute\n",
    "workflow_graph.add_node(modeling_data_task, dtype='task')"
   ]
  },
  {
   "cell_type": "code",
   "execution_count": 3,
   "id": "f474c6cb",
   "metadata": {},
   "outputs": [
    {
     "name": "stdout",
     "output_type": "stream",
     "text": [
      "Number of nodes: 25, Number of edges: 0\n"
     ]
    }
   ],
   "source": [
    "# Prints the number of nodes and edges in the graph\n",
    "print('Number of nodes: {}, Number of edges: {}'.format(\n",
    "    len(workflow_graph.nodes), len(workflow_graph.edges)\n",
    "))"
   ]
  },
  {
   "cell_type": "code",
   "execution_count": 4,
   "id": "5770e896",
   "metadata": {},
   "outputs": [
    {
     "name": "stdout",
     "output_type": "stream",
     "text": [
      "Number of nodes: 25, Number of edges: 24\n"
     ]
    }
   ],
   "source": [
    "# TODO: Add all the inputs for `agg_sales_task`\n",
    "for sale in sales_data:\n",
    "    workflow_graph.add_edge(sale, agg_sales_task)\n",
    "\n",
    "# TODO: Add the output for `agg_sales_task`\n",
    "workflow_graph.add_edge(agg_sales_task, agg_sales_data)\n",
    "\n",
    "# TODO: Add all the inputs for `agg_weather_task`\n",
    "for forecast in forecast_data:\n",
    "    workflow_graph.add_edge(forecast, agg_weather_task)\n",
    "\n",
    "# TODO: Add the output for `agg_weather_task`\n",
    "workflow_graph.add_edge(agg_weather_task, agg_weather_data)\n",
    "\n",
    "# TODO: Add all the inputs for `latest_demo_task`\n",
    "for census_data in [latest_acs_data, latest_pums_data, latest_tiger_data]:\n",
    "    workflow_graph.add_edge(census_data, latest_demo_task)\n",
    "\n",
    "# TODO: Add the outputs for `latest_demo_task`\n",
    "workflow_graph.add_edge(latest_demo_task, latest_demo_data)\n",
    "\n",
    "# TODO: Add all the inputs for `modeling_data_task`\n",
    "for model_data in [agg_sales_data, agg_weather_data, latest_demo_data]:\n",
    "    workflow_graph.add_edge(model_data, modeling_data_task)\n",
    "\n",
    "# TODO: Add the output for `modeling_data_task`\n",
    "workflow_graph.add_edge(modeling_data_task, modeling_data)\n",
    "\n",
    "# Prints the number of nodes and edges in the graph\n",
    "print('Number of nodes: {}, Number of edges: {}'.format(\n",
    "    len(workflow_graph.nodes), len(workflow_graph.edges)\n",
    "))"
   ]
  },
  {
   "cell_type": "code",
   "execution_count": 5,
   "id": "fdaf7bce",
   "metadata": {},
   "outputs": [
    {
     "data": {
      "image/png": "[encoded data removed]",
      "text/plain": [
       "<Figure size 432x288 with 1 Axes>"
      ]
     },
     "metadata": {},
     "output_type": "display_data"
    }
   ],
   "source": [
    "nx.draw(workflow_graph)"
   ]
  },
  {
   "cell_type": "code",
   "execution_count": 6,
   "id": "07f0f51a",
   "metadata": {},
   "outputs": [
    {
     "name": "stdout",
     "output_type": "stream",
     "text": [
      "Good Result: No cycles found in your workflow!\n"
     ]
    }
   ],
   "source": [
    "# TODO: Run this code to check your workflow for cycles\n",
    "\n",
    "if nx.is_directed_acyclic_graph(workflow_graph):\n",
    "    print('Good Result: No cycles found in your workflow!')  \n",
    "else:\n",
    "    print('Bad Result: Cycles found in your workflow!')"
   ]
  },
  {
   "cell_type": "code",
   "execution_count": 7,
   "id": "6151f20b",
   "metadata": {},
   "outputs": [
    {
     "data": {
      "text/plain": [
       "{'AggSalesTask',\n",
       " 'SalesData0',\n",
       " 'SalesData1',\n",
       " 'SalesData2',\n",
       " 'SalesData3',\n",
       " 'SalesData4',\n",
       " 'SalesData5',\n",
       " 'SalesData6'}"
      ]
     },
     "execution_count": 7,
     "metadata": {},
     "output_type": "execute_result"
    }
   ],
   "source": [
    "# TODO: Find all the dependencies for the aggregated sales dataset\n",
    "from networkx.algorithms.dag import ancestors\n",
    "\n",
    "agg_sales_data_deps = ancestors(workflow_graph, agg_sales_data)\n",
    "agg_sales_data_deps"
   ]
  },
  {
   "cell_type": "code",
   "execution_count": 8,
   "id": "5fdc71a8",
   "metadata": {},
   "outputs": [
    {
     "data": {
      "text/plain": [
       "{'LatestACSData', 'LatestDemoTask', 'LatestPUMSData', 'LatestTigerData'}"
      ]
     },
     "execution_count": 8,
     "metadata": {},
     "output_type": "execute_result"
    }
   ],
   "source": [
    "# TODO: Find all the dependencies for the latest demographics dataset\n",
    "\n",
    "last_demo_data_deps = ancestors(workflow_graph, latest_demo_data)\n",
    "last_demo_data_deps"
   ]
  },
  {
   "cell_type": "code",
   "execution_count": 9,
   "id": "0ded1984",
   "metadata": {},
   "outputs": [
    {
     "data": {
      "text/plain": [
       "{'AggSalesTask', 'AggWeatherTask', 'LatestDemoTask', 'ModelingTask'}"
      ]
     },
     "execution_count": 9,
     "metadata": {},
     "output_type": "execute_result"
    }
   ],
   "source": [
    "task_nodes = {\n",
    "    node_name\n",
    "    for node_name, data_dict in workflow_graph.nodes.data()\n",
    "    if data_dict['dtype'] == 'task'\n",
    "}\n",
    "\n",
    "task_nodes"
   ]
  },
  {
   "cell_type": "code",
   "execution_count": 10,
   "id": "5e4261da",
   "metadata": {},
   "outputs": [
    {
     "data": {
      "text/plain": [
       "{'AggSalesTask', 'AggWeatherTask', 'LatestDemoTask', 'ModelingTask'}"
      ]
     },
     "execution_count": 10,
     "metadata": {},
     "output_type": "execute_result"
    }
   ],
   "source": [
    "# TODO: Find all the task dependencies for the modeling data set\n",
    "\n",
    "modeling_data_task_deps = {\n",
    "    node_name\n",
    "    for node_name in ancestors(workflow_graph, modeling_data)\n",
    "    if node_name in task_nodes    \n",
    "}\n",
    "\n",
    "modeling_data_task_deps"
   ]
  },
  {
   "cell_type": "code",
   "execution_count": 11,
   "id": "7375a15f",
   "metadata": {},
   "outputs": [
    {
     "data": {
      "text/plain": [
       "set()"
      ]
     },
     "execution_count": 11,
     "metadata": {},
     "output_type": "execute_result"
    }
   ],
   "source": [
    "# TODO: Verify that there are no tasks or datasets in the workflow that depend on `modeling_data`\n",
    "from networkx.algorithms.dag import descendants\n",
    "\n",
    "modeling_data_descendants = descendants(workflow_graph, modeling_data)\n",
    "modeling_data_descendants"
   ]
  },
  {
   "cell_type": "code",
   "execution_count": null,
   "id": "a10e6392",
   "metadata": {},
   "outputs": [],
   "source": []
  }
 ],
 "metadata": {
  "kernelspec": {
   "display_name": "Python 3 (ipykernel)",
   "language": "python",
   "name": "python3"
  },
  "language_info": {
   "codemirror_mode": {
    "name": "ipython",
    "version": 3
   },
   "file_extension": ".py",
   "mimetype": "text/x-python",
   "name": "python",
   "nbconvert_exporter": "python",
   "pygments_lexer": "ipython3",
   "version": "3.9.7"
  }
 },
 "nbformat": 4,
 "nbformat_minor": 5
}
