{
 "cells": [
  {
   "cell_type": "code",
   "execution_count": 1,
   "id": "bddcfa71",
   "metadata": {},
   "outputs": [
    {
     "name": "stdout",
     "output_type": "stream",
     "text": [
      "Requirement already satisfied: falcon in c:\\users\\12162\\anaconda3\\lib\\site-packages (3.1.1)\n",
      "Note: you may need to restart the kernel to use updated packages.\n"
     ]
    },
    {
     "name": "stderr",
     "output_type": "stream",
     "text": [
      "WARNING: You are using pip version 22.0.3; however, version 23.0.1 is available.\n",
      "You should consider upgrading via the 'C:\\Users\\12162\\anaconda3\\python.exe -m pip install --upgrade pip' command.\n"
     ]
    }
   ],
   "source": [
    "pip install falcon"
   ]
  },
  {
   "cell_type": "code",
   "execution_count": 2,
   "id": "56605cfd",
   "metadata": {},
   "outputs": [],
   "source": [
    "from wsgiref.simple_server import make_server\n",
    "import falcon\n",
    "\n",
    "# Falcon follows the REST architectural style, meaning (among\n",
    "# other things) that you think in terms of resources and state\n",
    "# transitions, which map to HTTP verbs.\n",
    "class ClassifyResourceV1:\n",
    "    def on_get(self, req, resp):\n",
    "        # Gets the img query parameter\n",
    "        img_url = req.get_param('img')\n",
    "        # Creates a result dictionary with a single entry\n",
    "        result = dict(src_img=img_url)\n",
    "        # Sets the response content to the result dictionary\n",
    "        resp.media = result\n",
    "        \"\"\"Handles GET requests\"\"\"\n",
    "        resp.status = falcon.HTTP_200  # This is the default status\n",
    "\n",
    "        \n",
    "# falcon.App instances are callable WSGI apps\n",
    "# in larger applications the app is created in a separate file\n",
    "app_v1 = falcon.App()\n",
    "\n",
    "# Resources are represented by long-lived class instances\n",
    "classify_v1 = ClassifyResourceV1()\n",
    "\n",
    "# things will handle all requests to the '/classify' URL path\n",
    "app_v1.add_route('/classify', classify_v1)"
   ]
  },
  {
   "cell_type": "code",
   "execution_count": 3,
   "id": "69703509",
   "metadata": {},
   "outputs": [],
   "source": [
    "def run_server(app):\n",
    "    with make_server('', 9999, app) as httpd:\n",
    "        print('Serving on port 9999...')\n",
    "\n",
    "        # Serve until process is killed\n",
    "        try:\n",
    "            httpd.serve_forever()\n",
    "        except KeyboardInterrupt:\n",
    "            print('Stopping web server')\n"
   ]
  },
  {
   "cell_type": "code",
   "execution_count": null,
   "id": "208dc3f7",
   "metadata": {},
   "outputs": [
    {
     "name": "stdout",
     "output_type": "stream",
     "text": [
      "Serving on port 9999...\n"
     ]
    },
    {
     "name": "stderr",
     "output_type": "stream",
     "text": [
      "127.0.0.1 - - [04/Mar/2023 15:17:57] \"GET /classify?img=https%3A%2F%2Fstardewvalleywiki.com%2Fmediawiki%2Fimages%2Fa%2Fa4%2FBanner_Right_Winter.png HTTP/1.1\" 200 90\n",
      "127.0.0.1 - - [04/Mar/2023 15:18:09] \"GET /classify?img=https%3A%2F%2Fwww.stardewvalley.net%2Fwp-content%2Fuploads%2F2018%2F12%2F1_1screenshot15.png HTTP/1.1\" 200 91\n"
     ]
    }
   ],
   "source": [
    "run_server(app_v1)"
   ]
  },
  {
   "cell_type": "code",
   "execution_count": null,
   "id": "52168e0c",
   "metadata": {},
   "outputs": [],
   "source": [
    "from pathlib import Path\n",
    "import tempfile\n",
    "\n",
    "from tensorflow.keras.applications.resnet50 import ResNet50\n",
    "from tensorflow.keras.preprocessing import image\n",
    "from tensorflow.keras.applications.resnet50 import preprocess_input, decode_predictions\n",
    "\n",
    "import numpy as np\n",
    "import requests\n",
    "\n",
    "import json\n",
    "\n",
    "# Downloads and loads the ResNetModel\n",
    "model = ResNet50(weights='imagenet')"
   ]
  },
  {
   "cell_type": "code",
   "execution_count": null,
   "id": "a0cdc4b2",
   "metadata": {},
   "outputs": [],
   "source": [
    "def load_img_url(img_url, target_size):\n",
    "    r = requests.get(img_url)\n",
    "    if r.status_code != 200:\n",
    "        print('Could not download image')\n",
    "        return None\n",
    "    \n",
    "    img_suffix = '.{}'.format(img_url.split('.')[-1])\n",
    "    \n",
    "    with tempfile.NamedTemporaryFile(suffix=img_suffix) as fp:\n",
    "        fp.write(r.content)\n",
    "        tf_path = Path(fp.name)\n",
    "        img = image.load_img(tf_path, target_size=target_size)\n",
    "    \n",
    "    return img"
   ]
  },
  {
   "cell_type": "code",
   "execution_count": null,
   "id": "1ee6654a",
   "metadata": {},
   "outputs": [],
   "source": [
    "def make_prediction(model, img_url, target_size=(224, 224), top=5):\n",
    "    result = dict(src_img=img_url)\n",
    "    img = load_img_url(img_url, target_size)\n",
    "    x = image.img_to_array(img)\n",
    "    x = np.expand_dims(x, axis=0)\n",
    "    x = preprocess_input(x)\n",
    "    \n",
    "    preds = model.predict(x)\n",
    "    \n",
    "    result['predictions'] = []\n",
    "\n",
    "    for class_name, class_description, score in decode_predictions(preds, top=top)[0]:\n",
    "        result['predictions'].append(dict(\n",
    "            class_name=str(class_name),\n",
    "            class_description=str(class_description),\n",
    "            score=float(score)\n",
    "        ))\n",
    "        \n",
    "    return result   "
   ]
  },
  {
   "cell_type": "code",
   "execution_count": null,
   "id": "1d9df396",
   "metadata": {},
   "outputs": [],
   "source": [
    "# TODO: Test the `make_prediction` function using img_urls\n",
    "\n",
    "# TODO: Add img_urls for testing\n",
    "img_urls = []\n",
    "\n",
    "for img_url in img_urls:\n",
    "    result = make_prediction(model, img_url)\n",
    "    print('-----------------------------')\n",
    "    print('')\n",
    "    # Prints a pretty version of the result\n",
    "    print(json.dumps(result, indent=2))\n",
    "    print('-----------------------------')\n",
    "    print()"
   ]
  },
  {
   "cell_type": "code",
   "execution_count": null,
   "id": "e5d535aa",
   "metadata": {},
   "outputs": [],
   "source": [
    "class ClassifyResourceV2:\n",
    "    def on_get(self, req, resp):\n",
    "        # TODO: Implement the code to handle the GET requests\n",
    "\n",
    "app_v2 = falcon.App()\n",
    "\n",
    "classify_v1 = ClassifyResourceV2()\n",
    "\n",
    "app_v2.add_route('/classify', classify_v2)"
   ]
  },
  {
   "cell_type": "code",
   "execution_count": null,
   "id": "8f38eca4",
   "metadata": {},
   "outputs": [],
   "source": [
    "run_server(app_v2)"
   ]
  },
  {
   "cell_type": "code",
   "execution_count": null,
   "id": "ad8a044b",
   "metadata": {},
   "outputs": [],
   "source": []
  }
 ],
 "metadata": {
  "kernelspec": {
   "display_name": "Python 3 (ipykernel)",
   "language": "python",
   "name": "python3"
  },
  "language_info": {
   "codemirror_mode": {
    "name": "ipython",
    "version": 3
   },
   "file_extension": ".py",
   "mimetype": "text/x-python",
   "name": "python",
   "nbconvert_exporter": "python",
   "pygments_lexer": "ipython3",
   "version": "3.9.7"
  }
 },
 "nbformat": 4,
 "nbformat_minor": 5
}
