{
 "cells": [
  {
   "cell_type": "code",
   "execution_count": 1,
   "id": "c798e53e",
   "metadata": {},
   "outputs": [],
   "source": [
    "# Imports the required Python libraries and \n",
    "# sets global variables for the assignment\n",
    "import calendar\n",
    "import datetime\n",
    "from pathlib import PurePosixPath\n",
    "\n",
    "today = datetime.date.today()\n",
    "current_year = today.year\n",
    "days_in_year = 365\n",
    "\n",
    "if calendar.isleap(current_year):\n",
    "    days_in_year +=1\n",
    "\n",
    "hours_in_year = days_in_year * 24"
   ]
  },
  {
   "cell_type": "code",
   "execution_count": 2,
   "id": "12a12545",
   "metadata": {},
   "outputs": [
    {
     "name": "stdout",
     "output_type": "stream",
     "text": [
      "Root Data Directory: /data\n",
      "External Data Directory: /data/external\n",
      "Interim Data Directory: /data/interim\n",
      "Processed Data Directory: /data/processed\n",
      "Raw Data Directory: /data/raw\n"
     ]
    }
   ],
   "source": [
    "# Creates paths for the external, interim, processed, and raw directories\n",
    "# Use these paths when creating new paths\n",
    "\n",
    "root_data_dir = PurePosixPath('/data')\n",
    "external_data_dir = root_data_dir.joinpath('external')\n",
    "interim_data_dir = root_data_dir.joinpath('interim')\n",
    "processed_data_dir = root_data_dir.joinpath('processed')\n",
    "raw_data_dir = root_data_dir.joinpath('raw')\n",
    "\n",
    "print('Root Data Directory: {}'.format(root_data_dir))\n",
    "print('External Data Directory: {}'.format(external_data_dir))\n",
    "print('Interim Data Directory: {}'.format(interim_data_dir))\n",
    "print('Processed Data Directory: {}'.format(processed_data_dir))\n",
    "print('Raw Data Directory: {}'.format(raw_data_dir))"
   ]
  },
  {
   "cell_type": "code",
   "execution_count": 3,
   "id": "dbaecb38",
   "metadata": {},
   "outputs": [],
   "source": [
    "acs_summary_file_dirs = set()\n",
    "pums_dirs = set()\n",
    "tiger_dirs = set()\n",
    "\n",
    "# TODO: Create and add the paths for this data set"
   ]
  },
  {
   "cell_type": "code",
   "execution_count": 4,
   "id": "c238e0d6",
   "metadata": {},
   "outputs": [],
   "source": [
    "# Will generate directories to reduce repeated code\n",
    "# This function is continiously used throughout assignment\n",
    "def DirGenerator(root, dir_names, add_to=None):\n",
    "    paths = [root.joinpath(directory) for directory in dir_names]\n",
    "    # Appends to a set for refrence\n",
    "    if add_to is not None:\n",
    "        for path in paths:\n",
    "            add_to.add(format(path))"
   ]
  },
  {
   "cell_type": "code",
   "execution_count": 5,
   "id": "14ef9a46",
   "metadata": {},
   "outputs": [
    {
     "data": {
      "text/plain": [
       "(['/data/external/census/acs-summaryfile/2015',\n",
       "  '/data/external/census/acs-summaryfile/2016',\n",
       "  '/data/external/census/acs-summaryfile/2017',\n",
       "  '/data/external/census/acs-summaryfile/2018',\n",
       "  '/data/external/census/acs-summaryfile/2019'],\n",
       " ['/data/external/census/pums/2015',\n",
       "  '/data/external/census/pums/2016',\n",
       "  '/data/external/census/pums/2017',\n",
       "  '/data/external/census/pums/2018',\n",
       "  '/data/external/census/pums/2019',\n",
       "  '/data/external/census/pums/2020'],\n",
       " ['/data/external/census/tiger/2015',\n",
       "  '/data/external/census/tiger/2016',\n",
       "  '/data/external/census/tiger/2017',\n",
       "  '/data/external/census/tiger/2018',\n",
       "  '/data/external/census/tiger/2019',\n",
       "  '/data/external/census/tiger/2020'])"
      ]
     },
     "execution_count": 5,
     "metadata": {},
     "output_type": "execute_result"
    }
   ],
   "source": [
    "# Creates initial directories\n",
    "census_data_dir = external_data_dir.joinpath('census')\n",
    "acs_summary_data_dir = census_data_dir.joinpath('acs-summaryfile')\n",
    "pums_data_dir = census_data_dir.joinpath('pums')\n",
    "tiger_data_dir = census_data_dir.joinpath('tiger')\n",
    "\n",
    "# Generates the directories\n",
    "years = ['2015', '2016', '2017', '2018', '2019']       \n",
    "DirGenerator(acs_summary_data_dir, years, add_to=acs_summary_file_dirs)\n",
    "\n",
    "years = ['2015', '2016', '2017', '2018', '2019', '2020']\n",
    "DirGenerator(pums_data_dir, years, add_to=pums_dirs)\n",
    "DirGenerator(tiger_data_dir, years, add_to=tiger_dirs)\n",
    "\n",
    "# Should output sorted directories from 2015 to present \n",
    "sorted(list(acs_summary_file_dirs)), sorted(list(pums_dirs)), sorted(list(tiger_dirs))"
   ]
  },
  {
   "cell_type": "code",
   "execution_count": 6,
   "id": "c9eedfc9",
   "metadata": {},
   "outputs": [],
   "source": [
    "# Code below is used to build dict structure {month: [days]}\n",
    "# Helpful for passing to function DirGenerator\n",
    "import calendar\n",
    "\n",
    "# Collapses dates in calander dates list\n",
    "def flatten(dates):\n",
    "    for i in dates:\n",
    "        if isinstance(i, list):\n",
    "            for j in flatten(i):\n",
    "                yield j\n",
    "        else:\n",
    "            yield i\n",
    "            \n",
    "\n",
    "cal = calendar.Calendar()\n",
    "year = 2020\n",
    "\n",
    "# Creates dict with {month: []} pairs\n",
    "dates = list(flatten(cal.yeardatescalendar(year)))\n",
    "months = set(str(date.month) for date in dates)\n",
    "month_days = {month: [] for month in months}\n",
    "\n",
    "# Adds list of values for each month's days within month_days\n",
    "for date in dates:\n",
    "    if str(date.day) not in month_days[str(date.month)]:\n",
    "        month_days[str(date.month)].append(str(date.day))\n",
    "\n",
    "# Creates padding with 0s (e.g., 1 to 01)\n",
    "padded_dict = {}\n",
    "for month, days in month_days.items():\n",
    "    days = [str(day.zfill(2)) for day in days]\n",
    "    padded_dict[str(month.zfill(2))] = list(days)\n",
    "    \n",
    "month_days = padded_dict"
   ]
  },
  {
   "cell_type": "code",
   "execution_count": 7,
   "id": "4a6291cc",
   "metadata": {},
   "outputs": [],
   "source": [
    "forecast_dirs = set()\n",
    "\n",
    "# TODO: Create and add the paths for this data set\n",
    "\n",
    "# Creates initial directories\n",
    "nwc_wpc_data_dir = external_data_dir.joinpath('nwc-wpc')\n",
    "forecasts_data_dir = nwc_wpc_data_dir.joinpath('forecasts')\n",
    "for2020_data_dir = forecasts_data_dir.joinpath('2020')"
   ]
  },
  {
   "cell_type": "code",
   "execution_count": 8,
   "id": "6c66db60",
   "metadata": {},
   "outputs": [
    {
     "data": {
      "text/plain": [
       "366"
      ]
     },
     "execution_count": 8,
     "metadata": {},
     "output_type": "execute_result"
    }
   ],
   "source": [
    "# Creates directories for months\n",
    "DirGenerator(for2020_data_dir, months)\n",
    "\n",
    "# Creates directories for days in months dirs\n",
    "parent = format(for2020_data_dir)\n",
    "for month, days in month_days.items():\n",
    "    child = PurePosixPath((f'{parent}/{month}'))\n",
    "    DirGenerator(child, days, add_to=forecast_dirs)\n",
    "\n",
    "# Should have 365 directories (366 if leap year)\n",
    "len(forecast_dirs)"
   ]
  },
  {
   "cell_type": "code",
   "execution_count": 9,
   "id": "13308034",
   "metadata": {},
   "outputs": [],
   "source": [
    "inventory_dirs = set()\n",
    "expenses_dirs = set()\n",
    "\n",
    "# TODO: Create and add the paths for this data set"
   ]
  },
  {
   "cell_type": "code",
   "execution_count": 10,
   "id": "96dd6ca6",
   "metadata": {},
   "outputs": [],
   "source": [
    "# Creates initial directories\n",
    "raw_expenses_data_dir = raw_data_dir.joinpath('expenses')\n",
    "raw_inventory_data_dir = raw_data_dir.joinpath('inventory')\n",
    "\n",
    "in_location_dirs = [raw_inventory_data_dir.joinpath('bwi'),\n",
    "                    raw_inventory_data_dir.joinpath('cmh'),\n",
    "                    raw_inventory_data_dir.joinpath('den'),\n",
    "                    raw_inventory_data_dir.joinpath('oma'),\n",
    "                    raw_inventory_data_dir.joinpath('sfo')]\n",
    "\n",
    "ex_location_dirs = [raw_expenses_data_dir.joinpath('bwi'),\n",
    "                    raw_expenses_data_dir.joinpath('cmh'),\n",
    "                    raw_expenses_data_dir.joinpath('den'),\n",
    "                    raw_expenses_data_dir.joinpath('oma'),\n",
    "                    raw_expenses_data_dir.joinpath('sfo')]"
   ]
  },
  {
   "cell_type": "code",
   "execution_count": 11,
   "id": "08d30010",
   "metadata": {},
   "outputs": [],
   "source": [
    "# Creates directories for months in inventory location dirs\n",
    "for location_dir in in_location_dirs:\n",
    "    DirGenerator(location_dir, months)\n",
    "\n",
    "# Creates directories for months in expenses location dirs\n",
    "for location_dir in ex_location_dirs:\n",
    "    DirGenerator(location_dir, months)\n",
    "\n",
    "# Creates directories for days in inventory\n",
    "for PosixPath in in_location_dirs:\n",
    "    # Formats parent path\n",
    "    parent = f'{format(PosixPath)}/2020'\n",
    "    for month, days in month_days.items():\n",
    "        child = PurePosixPath((f'{parent}/{month}'))\n",
    "        DirGenerator(child, days, add_to=inventory_dirs)\n",
    "\n",
    "# Creates directories for days in expenses\n",
    "for PosixPath in ex_location_dirs:\n",
    "    # Formats parent path\n",
    "    parent = f'{format(PosixPath)}/2020'\n",
    "    for month, days in month_days.items():\n",
    "        child = PurePosixPath((f'{parent}/{month}'))\n",
    "        DirGenerator(child, days, add_to=expenses_dirs)"
   ]
  },
  {
   "cell_type": "code",
   "execution_count": 12,
   "id": "51bef1de",
   "metadata": {},
   "outputs": [
    {
     "data": {
      "text/plain": [
       "(1830, 1830)"
      ]
     },
     "execution_count": 12,
     "metadata": {},
     "output_type": "execute_result"
    }
   ],
   "source": [
    "# Should have 1825 directories (1830 if leap year)\n",
    "len(inventory_dirs), len(expenses_dirs) "
   ]
  },
  {
   "cell_type": "code",
   "execution_count": 13,
   "id": "2cb5b4ce",
   "metadata": {},
   "outputs": [],
   "source": [
    "sales_dirs = set()\n",
    "\n",
    "# TODO: Create and add the paths for this data set"
   ]
  },
  {
   "cell_type": "code",
   "execution_count": 14,
   "id": "dda88154",
   "metadata": {},
   "outputs": [],
   "source": [
    "# Creates initial directories\n",
    "raw_sales_data_dir = raw_data_dir.joinpath('sales')\n",
    "\n",
    "sales_location_dirs = [raw_sales_data_dir.joinpath('bwi'),\n",
    "                       raw_sales_data_dir.joinpath('cmh'),\n",
    "                       raw_sales_data_dir.joinpath('den'),\n",
    "                       raw_sales_data_dir.joinpath('oma'),\n",
    "                       raw_sales_data_dir.joinpath('sfo')]"
   ]
  },
  {
   "cell_type": "code",
   "execution_count": 15,
   "id": "974276fd",
   "metadata": {},
   "outputs": [],
   "source": [
    "# Creates directories for months in sales location dirs\n",
    "for location_dir in sales_location_dirs:\n",
    "    DirGenerator(location_dir, months)\n",
    "\n",
    "# Creates directories for days in sales\n",
    "for PosixPath in sales_location_dirs:\n",
    "    # Formats parent path\n",
    "    parent = f'{format(PosixPath)}/2020'\n",
    "    for month, days in month_days.items():\n",
    "        child = PurePosixPath((f'{parent}/{month}'))\n",
    "        DirGenerator(child, days, add_to=sales_dirs)\n",
    "\n",
    "# Lists hours in a day\n",
    "hours = [str(hour).zfill(2) for hour in range(24)]\n",
    "\n",
    "# Creates directories for hours in sales\n",
    "hourly_sales_dirs = set()\n",
    "for sales_day_dir in sales_dirs:\n",
    "    parent = PurePosixPath(sales_day_dir)\n",
    "    DirGenerator(parent, hours, add_to=hourly_sales_dirs) "
   ]
  },
  {
   "cell_type": "code",
   "execution_count": 16,
   "id": "63a62d8a",
   "metadata": {},
   "outputs": [
    {
     "data": {
      "text/plain": [
       "43920"
      ]
     },
     "execution_count": 16,
     "metadata": {},
     "output_type": "execute_result"
    }
   ],
   "source": [
    "sales_dirs = hourly_sales_dirs\n",
    "\n",
    "# Should have 43,800 directories (43,920 if leap year)\n",
    "len(sales_dirs) "
   ]
  },
  {
   "cell_type": "code",
   "execution_count": 17,
   "id": "7dcbc428",
   "metadata": {},
   "outputs": [],
   "source": [
    "modeling_data_dirs = set()\n",
    "\n",
    "# TODO: Create and add the paths for this data set"
   ]
  },
  {
   "cell_type": "code",
   "execution_count": 18,
   "id": "7b025898",
   "metadata": {},
   "outputs": [],
   "source": [
    "year = 2020\n",
    "week_starter = 0\n",
    "\n",
    "# Creates dict {month: [week_start_date]} for year\n",
    "month_weeks = {str(month+1): [] for month in range(12)}\n",
    "for i in range(12):\n",
    "    month = i+1\n",
    "    for date in cal.itermonthdays4(year, month):\n",
    "        if date[0] == year and date[3] == week_starter:\n",
    "            if str(date[2]) not in month_weeks[str(date[1])]:\n",
    "                month_weeks[str(date[1])].append(str(date[2]))\n",
    "            \n",
    "# Creates padding with 0s (e.g., 1 to 01)\n",
    "padded_dict = {}\n",
    "for month, weeks in month_weeks.items():\n",
    "    weeks = [str(week.zfill(2)) for week in weeks]\n",
    "    padded_dict[str(month.zfill(2))] = list(weeks)\n",
    "    \n",
    "month_weeks = padded_dict"
   ]
  },
  {
   "cell_type": "code",
   "execution_count": 19,
   "id": "6a2f295e",
   "metadata": {},
   "outputs": [],
   "source": [
    "# Creates initial directory\n",
    "modeling_data_dir = processed_data_dir.joinpath('modeling')\n",
    "\n",
    "# Creates directories for months\n",
    "DirGenerator(modeling_data_dir, months)\n",
    "\n",
    "# Creates directories for days in months dirs\n",
    "parent = format(modeling_data_dir)\n",
    "for month, weeks in month_weeks.items():\n",
    "    child = PurePosixPath((f'{parent}/{month}'))\n",
    "    DirGenerator(child, weeks, add_to=modeling_data_dirs)"
   ]
  },
  {
   "cell_type": "code",
   "execution_count": 20,
   "id": "9d8721fb",
   "metadata": {},
   "outputs": [
    {
     "data": {
      "text/plain": [
       "52"
      ]
     },
     "execution_count": 20,
     "metadata": {},
     "output_type": "execute_result"
    }
   ],
   "source": [
    "# Should have 52 directories\n",
    "len(modeling_data_dirs)"
   ]
  },
  {
   "cell_type": "code",
   "execution_count": 21,
   "id": "054971d4",
   "metadata": {},
   "outputs": [],
   "source": [
    "inventory_request_dirs = set()\n",
    "\n",
    "# TODO: Create and add the paths for this data set"
   ]
  },
  {
   "cell_type": "code",
   "execution_count": 22,
   "id": "28edae2c",
   "metadata": {},
   "outputs": [],
   "source": [
    "# Creates initial directory\n",
    "inventory_data_dir = processed_data_dir.joinpath('inventory')\n",
    "requests_data_dir = processed_data_dir.joinpath('requests')\n",
    "requests2020_data_dir = processed_data_dir.joinpath('2020')\n",
    "\n",
    "# Generates the month directories\n",
    "DirGenerator(requests2020_data_dir, month_days.keys(), add_to=inventory_request_dirs)"
   ]
  },
  {
   "cell_type": "code",
   "execution_count": 23,
   "id": "61b6f86b",
   "metadata": {},
   "outputs": [
    {
     "data": {
      "text/plain": [
       "['/data/processed/2020/01',\n",
       " '/data/processed/2020/02',\n",
       " '/data/processed/2020/03',\n",
       " '/data/processed/2020/04',\n",
       " '/data/processed/2020/05',\n",
       " '/data/processed/2020/06',\n",
       " '/data/processed/2020/07',\n",
       " '/data/processed/2020/08',\n",
       " '/data/processed/2020/09',\n",
       " '/data/processed/2020/10',\n",
       " '/data/processed/2020/11',\n",
       " '/data/processed/2020/12']"
      ]
     },
     "execution_count": 23,
     "metadata": {},
     "output_type": "execute_result"
    }
   ],
   "source": [
    " # Should output 12 directories\n",
    "sorted(list(inventory_request_dirs))"
   ]
  },
  {
   "cell_type": "code",
   "execution_count": 24,
   "id": "c8d3feb2",
   "metadata": {},
   "outputs": [],
   "source": [
    "financials_dirs = set()\n",
    "\n",
    "# TODO: Create and add the paths for this data set"
   ]
  },
  {
   "cell_type": "code",
   "execution_count": 25,
   "id": "fa412f3e",
   "metadata": {},
   "outputs": [],
   "source": [
    "# Creates initial directory\n",
    "financials_data_dir = processed_data_dir.joinpath('financials')\n",
    "quarterly_data_dir = financials_data_dir.joinpath('quarterly')\n",
    "quarterly2020_data_dir = quarterly_data_dir.joinpath('2020')\n",
    "\n",
    "quarters = ['01', '02', '03', '04']\n",
    "\n",
    "# Generates the quarterly directories\n",
    "DirGenerator(quarterly2020_data_dir, quarters, add_to=financials_dirs)"
   ]
  },
  {
   "cell_type": "code",
   "execution_count": 26,
   "id": "3b5f1195",
   "metadata": {},
   "outputs": [
    {
     "data": {
      "text/plain": [
       "['/data/processed/financials/quarterly/2020/01',\n",
       " '/data/processed/financials/quarterly/2020/02',\n",
       " '/data/processed/financials/quarterly/2020/03',\n",
       " '/data/processed/financials/quarterly/2020/04']"
      ]
     },
     "execution_count": 26,
     "metadata": {},
     "output_type": "execute_result"
    }
   ],
   "source": [
    "# Should output four quarterly directories\n",
    "sorted(list(financials_dirs)) "
   ]
  },
  {
   "cell_type": "code",
   "execution_count": null,
   "id": "5d9cf4c4",
   "metadata": {},
   "outputs": [],
   "source": []
  }
 ],
 "metadata": {
  "kernelspec": {
   "display_name": "Python 3 (ipykernel)",
   "language": "python",
   "name": "python3"
  },
  "language_info": {
   "codemirror_mode": {
    "name": "ipython",
    "version": 3
   },
   "file_extension": ".py",
   "mimetype": "text/x-python",
   "name": "python",
   "nbconvert_exporter": "python",
   "pygments_lexer": "ipython3",
   "version": "3.9.7"
  }
 },
 "nbformat": 4,
 "nbformat_minor": 5
}
